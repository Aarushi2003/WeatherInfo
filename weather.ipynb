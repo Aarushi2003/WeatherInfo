{
 "cells": [
  {
   "cell_type": "code",
   "execution_count": null,
   "id": "a7a0823f",
   "metadata": {
    "scrolled": false
   },
   "outputs": [],
   "source": []
  },
  {
   "cell_type": "code",
   "execution_count": 29,
   "id": "7e3c5589",
   "metadata": {},
   "outputs": [
    {
     "name": "stdout",
     "output_type": "stream",
     "text": [
      "enter the city name:Mumbai\n",
      "-------------------------------------------------------------\n",
      "Weather stats for - MUMBAI || 22 Jun 2023 | 12:55:57 PM\n",
      "-------------------------------------------------------------\n",
      "Current temperature is: 33.05 deg C\n",
      "Current weather desc: haze\n",
      "Current humidity: 62 %\n",
      "Current wind speed : 3.09 kmph\n"
     ]
    }
   ],
   "source": [
    "import requests\n",
    "import os\n",
    "from datetime import datetime\n",
    "#user_api=os.environ['e042661d59a05c13d46685c72f836a52']\n",
    "location= input(\"enter the city name:\")\n",
    "complete_api_link=\"https://api.openweathermap.org/data/2.5/weather?q=Delhi&appid=e042661d59a05c13d46685c72f836a52\"\n",
    "api_link=requests.get(complete_api_link)\n",
    "api_data=api_link.json()\n",
    "if api_data['cod']=='404':\n",
    "    print(\"Invalid city: please check yout city name\".format(location))\n",
    "else:\n",
    "    temp_city=((api_data['main']['temp'])-273.15)\n",
    "    weather_desc= api_data['weather'][0]['description']\n",
    "    hmdt=api_data['main']['humidity']\n",
    "    wind_spd=api_data['wind']['speed']\n",
    "    date_time=datetime.now().strftime(\"%d %b %Y | %I:%M:%S %p\")\n",
    "    print(\"-------------------------------------------------------------\")\n",
    "    print(\"Weather stats for - {} || {}\".format(location.upper(),date_time))\n",
    "    print(\"-------------------------------------------------------------\")\n",
    "    print(\"Current temperature is: {:.2f} deg C\".format(temp_city))\n",
    "    print(\"Current weather desc:\",weather_desc)\n",
    "    print(\"Current humidity:\",hmdt,'%')\n",
    "    print(\"Current wind speed :\",wind_spd,'kmph')\n",
    "    "
   ]
  },
  {
   "cell_type": "code",
   "execution_count": null,
   "id": "d71d86a8",
   "metadata": {},
   "outputs": [],
   "source": []
  },
  {
   "cell_type": "code",
   "execution_count": null,
   "id": "ac27cf23",
   "metadata": {},
   "outputs": [],
   "source": []
  },
  {
   "cell_type": "code",
   "execution_count": null,
   "id": "be0fb58f",
   "metadata": {},
   "outputs": [],
   "source": []
  }
 ],
 "metadata": {
  "kernelspec": {
   "display_name": "Python 3 (ipykernel)",
   "language": "python",
   "name": "python3"
  },
  "language_info": {
   "codemirror_mode": {
    "name": "ipython",
    "version": 3
   },
   "file_extension": ".py",
   "mimetype": "text/x-python",
   "name": "python",
   "nbconvert_exporter": "python",
   "pygments_lexer": "ipython3",
   "version": "3.10.9"
  }
 },
 "nbformat": 4,
 "nbformat_minor": 5
}
